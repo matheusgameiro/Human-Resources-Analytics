{
 "cells": [
  {
   "cell_type": "code",
   "execution_count": 1,
   "id": "85f87bcf",
   "metadata": {},
   "outputs": [
    {
     "name": "stdout",
     "output_type": "stream",
     "text": [
      "Collecting fastparquet\n",
      "  Downloading fastparquet-0.7.2-cp39-cp39-win_amd64.whl (576 kB)\n",
      "Collecting cramjam>=2.3.0\n",
      "  Downloading cramjam-2.5.0-cp39-none-win_amd64.whl (993 kB)\n",
      "Requirement already satisfied: fsspec in c:\\users\\matheus.gameiro\\anaconda3\\lib\\site-packages (from fastparquet) (2021.10.1)\n",
      "Collecting thrift>=0.11.0\n",
      "  Downloading thrift-0.15.0.tar.gz (59 kB)\n",
      "Requirement already satisfied: numpy>=1.18 in c:\\users\\matheus.gameiro\\anaconda3\\lib\\site-packages (from fastparquet) (1.20.3)\n",
      "Requirement already satisfied: pandas>=1.1.0 in c:\\users\\matheus.gameiro\\anaconda3\\lib\\site-packages (from fastparquet) (1.3.4)\n",
      "Requirement already satisfied: python-dateutil>=2.7.3 in c:\\users\\matheus.gameiro\\anaconda3\\lib\\site-packages (from pandas>=1.1.0->fastparquet) (2.8.2)\n",
      "Requirement already satisfied: pytz>=2017.3 in c:\\users\\matheus.gameiro\\anaconda3\\lib\\site-packages (from pandas>=1.1.0->fastparquet) (2021.3)\n",
      "Requirement already satisfied: six>=1.5 in c:\\users\\matheus.gameiro\\anaconda3\\lib\\site-packages (from python-dateutil>=2.7.3->pandas>=1.1.0->fastparquet) (1.16.0)\n",
      "Building wheels for collected packages: thrift\n",
      "  Building wheel for thrift (setup.py): started\n",
      "  Building wheel for thrift (setup.py): finished with status 'done'\n",
      "  Created wheel for thrift: filename=thrift-0.15.0-py3-none-any.whl size=155892 sha256=5070ff6d8b127f1a164b3f8addf6d5a82fa76c494b8bcd9fb61b97e759498bad\n",
      "  Stored in directory: c:\\users\\matheus.gameiro\\appdata\\local\\pip\\cache\\wheels\\00\\41\\cd\\f65d329f7cc147ce79cc833b11b94f7bea7329df0ad9d81629\n",
      "Successfully built thrift\n",
      "Installing collected packages: thrift, cramjam, fastparquet\n",
      "Successfully installed cramjam-2.5.0 fastparquet-0.7.2 thrift-0.15.0\n",
      "Collecting pyarrow\n",
      "  Downloading pyarrow-6.0.1-cp39-cp39-win_amd64.whl (15.5 MB)\n",
      "Requirement already satisfied: numpy>=1.16.6 in c:\\users\\matheus.gameiro\\anaconda3\\lib\\site-packages (from pyarrow) (1.20.3)\n",
      "Installing collected packages: pyarrow\n",
      "Successfully installed pyarrow-6.0.1\n"
     ]
    }
   ],
   "source": [
    "!pip install fastparquet\n",
    "!pip install pyarrow"
   ]
  },
  {
   "cell_type": "code",
   "execution_count": null,
   "id": "7107f215",
   "metadata": {},
   "outputs": [],
   "source": []
  }
 ],
 "metadata": {
  "kernelspec": {
   "display_name": "Python 3 (ipykernel)",
   "language": "python",
   "name": "python3"
  },
  "language_info": {
   "codemirror_mode": {
    "name": "ipython",
    "version": 3
   },
   "file_extension": ".py",
   "mimetype": "text/x-python",
   "name": "python",
   "nbconvert_exporter": "python",
   "pygments_lexer": "ipython3",
   "version": "3.9.7"
  }
 },
 "nbformat": 4,
 "nbformat_minor": 5
}
